{
 "cells": [
  {
   "cell_type": "code",
   "execution_count": 15,
   "id": "b698941d",
   "metadata": {},
   "outputs": [],
   "source": [
    "import pandas as pd\n",
    "import numpy as np"
   ]
  },
  {
   "cell_type": "code",
   "execution_count": 16,
   "id": "e06faa55",
   "metadata": {
    "scrolled": true
   },
   "outputs": [
    {
     "name": "stdout",
     "output_type": "stream",
     "text": [
      "3\n"
     ]
    }
   ],
   "source": [
    "a = np.array([1,2,3,4])\n",
    "a.shape\n",
    "print(a[-2])"
   ]
  },
  {
   "cell_type": "code",
   "execution_count": 17,
   "id": "c5233b1b",
   "metadata": {},
   "outputs": [],
   "source": [
    "item = ['chocolate']"
   ]
  },
  {
   "cell_type": "code",
   "execution_count": 18,
   "id": "72cfdb55",
   "metadata": {},
   "outputs": [
    {
     "data": {
      "text/plain": [
       "list"
      ]
     },
     "execution_count": 18,
     "metadata": {},
     "output_type": "execute_result"
    }
   ],
   "source": [
    "type(item)"
   ]
  },
  {
   "cell_type": "code",
   "execution_count": 39,
   "id": "4441ae64",
   "metadata": {},
   "outputs": [],
   "source": [
    "items = pd.Series(data=[15 , 5 , 'no'] , index=['chocolates','chips','milk'])"
   ]
  },
  {
   "cell_type": "code",
   "execution_count": 21,
   "id": "370bbd7e",
   "metadata": {},
   "outputs": [
    {
     "data": {
      "text/plain": [
       "15"
      ]
     },
     "execution_count": 21,
     "metadata": {},
     "output_type": "execute_result"
    }
   ],
   "source": [
    "items['chocolates']"
   ]
  },
  {
   "cell_type": "code",
   "execution_count": 22,
   "id": "5e3b4c5d",
   "metadata": {},
   "outputs": [
    {
     "data": {
      "text/plain": [
       "chocolates    15\n",
       "chips          5\n",
       "dtype: object"
      ]
     },
     "execution_count": 22,
     "metadata": {},
     "output_type": "execute_result"
    }
   ],
   "source": [
    "items[[0,1]]"
   ]
  },
  {
   "cell_type": "code",
   "execution_count": 23,
   "id": "f1379054",
   "metadata": {},
   "outputs": [
    {
     "data": {
      "text/plain": [
       "milk     no\n",
       "chips     5\n",
       "dtype: object"
      ]
     },
     "execution_count": 23,
     "metadata": {},
     "output_type": "execute_result"
    }
   ],
   "source": [
    "items.loc[['milk','chips']]"
   ]
  },
  {
   "cell_type": "code",
   "execution_count": 24,
   "id": "2f648142",
   "metadata": {},
   "outputs": [
    {
     "data": {
      "text/plain": [
       "chips     5\n",
       "milk     no\n",
       "dtype: object"
      ]
     },
     "execution_count": 24,
     "metadata": {},
     "output_type": "execute_result"
    }
   ],
   "source": [
    "items.iloc[[1,2]]"
   ]
  },
  {
   "cell_type": "code",
   "execution_count": 26,
   "id": "a060e62f",
   "metadata": {},
   "outputs": [
    {
     "data": {
      "text/plain": [
       "chocolates    15\n",
       "chips          5\n",
       "milk          no\n",
       "dtype: object"
      ]
     },
     "execution_count": 26,
     "metadata": {},
     "output_type": "execute_result"
    }
   ],
   "source": [
    "items"
   ]
  },
  {
   "cell_type": "code",
   "execution_count": 27,
   "id": "e50de187",
   "metadata": {},
   "outputs": [
    {
     "name": "stdout",
     "output_type": "stream",
     "text": [
      "chocolates     15\n",
      "chips           5\n",
      "milk          Yes\n",
      "dtype: object\n"
     ]
    }
   ],
   "source": [
    "items['milk'] = 'Yes'\n",
    "print(items)"
   ]
  },
  {
   "cell_type": "code",
   "execution_count": 31,
   "id": "017d5a62",
   "metadata": {},
   "outputs": [
    {
     "data": {
      "text/plain": [
       "chips      5\n",
       "milk     Yes\n",
       "dtype: object"
      ]
     },
     "execution_count": 31,
     "metadata": {},
     "output_type": "execute_result"
    }
   ],
   "source": [
    "items.drop('chocolates') # Its tempurary"
   ]
  },
  {
   "cell_type": "code",
   "execution_count": 32,
   "id": "8ac4170e",
   "metadata": {},
   "outputs": [
    {
     "data": {
      "text/plain": [
       "chocolates     15\n",
       "chips           5\n",
       "milk          Yes\n",
       "dtype: object"
      ]
     },
     "execution_count": 32,
     "metadata": {},
     "output_type": "execute_result"
    }
   ],
   "source": [
    "items"
   ]
  },
  {
   "cell_type": "code",
   "execution_count": 33,
   "id": "443f601d",
   "metadata": {},
   "outputs": [],
   "source": [
    "items.drop('chocolates', inplace = True)\n",
    "# Permanently changing it"
   ]
  },
  {
   "cell_type": "code",
   "execution_count": 34,
   "id": "8676cf69",
   "metadata": {},
   "outputs": [
    {
     "name": "stdout",
     "output_type": "stream",
     "text": [
      "chips      5\n",
      "milk     Yes\n",
      "dtype: object\n"
     ]
    }
   ],
   "source": [
    "print(items)"
   ]
  },
  {
   "cell_type": "code",
   "execution_count": 35,
   "id": "0cf76073",
   "metadata": {},
   "outputs": [],
   "source": [
    "# Arithmetic operations\n",
    "sweet = pd.Series(data=[10,5,7], index=['candies','donut','nut'])"
   ]
  },
  {
   "cell_type": "code",
   "execution_count": 36,
   "id": "758c8a19",
   "metadata": {},
   "outputs": [
    {
     "name": "stdout",
     "output_type": "stream",
     "text": [
      "candies    10\n",
      "donut       5\n",
      "nut         7\n",
      "dtype: int64\n"
     ]
    }
   ],
   "source": [
    "print(sweet)"
   ]
  },
  {
   "cell_type": "code",
   "execution_count": 37,
   "id": "f94b8576",
   "metadata": {},
   "outputs": [
    {
     "data": {
      "text/plain": [
       "candies    10000\n",
       "donut        625\n",
       "nut         2401\n",
       "dtype: int64"
      ]
     },
     "execution_count": 37,
     "metadata": {},
     "output_type": "execute_result"
    }
   ],
   "source": [
    "np.power(sweet, 4)"
   ]
  },
  {
   "cell_type": "code",
   "execution_count": 40,
   "id": "aade52ea",
   "metadata": {},
   "outputs": [
    {
     "data": {
      "text/plain": [
       "chocolates      30\n",
       "chips           10\n",
       "milk          nono\n",
       "dtype: object"
      ]
     },
     "execution_count": 40,
     "metadata": {},
     "output_type": "execute_result"
    }
   ],
   "source": [
    "items * 2"
   ]
  },
  {
   "cell_type": "code",
   "execution_count": 41,
   "id": "10abe1bc",
   "metadata": {},
   "outputs": [],
   "source": [
    "# Data frame \n",
    "i = {'Shaurya': pd.Series([250,15,70,100], index=['watch','toy','glasses','shirt']),\n",
    "      'Ashish': pd.Series([100,15,20], index = ['pant','book','toy'])}"
   ]
  },
  {
   "cell_type": "code",
   "execution_count": 42,
   "id": "d7991975",
   "metadata": {},
   "outputs": [],
   "source": [
    "cart = pd.DataFrame(i)"
   ]
  },
  {
   "cell_type": "code",
   "execution_count": 43,
   "id": "3998d9f2",
   "metadata": {},
   "outputs": [
    {
     "name": "stdout",
     "output_type": "stream",
     "text": [
      "         Shaurya  Ashish\n",
      "book         NaN    15.0\n",
      "glasses     70.0     NaN\n",
      "pant         NaN   100.0\n",
      "shirt      100.0     NaN\n",
      "toy         15.0    20.0\n",
      "watch      250.0     NaN\n"
     ]
    }
   ],
   "source": [
    "print(cart)"
   ]
  },
  {
   "cell_type": "code",
   "execution_count": 44,
   "id": "e1f0f2c7",
   "metadata": {},
   "outputs": [],
   "source": [
    "new_items = {'shauriya': pd.Series([250,15,70,100]),\n",
    "            'Ashish': pd.Series([120,50,90])}\n",
    "df = pd.DataFrame(new_items)"
   ]
  },
  {
   "cell_type": "code",
   "execution_count": 45,
   "id": "142e1807",
   "metadata": {},
   "outputs": [
    {
     "data": {
      "text/html": [
       "<div>\n",
       "<style scoped>\n",
       "    .dataframe tbody tr th:only-of-type {\n",
       "        vertical-align: middle;\n",
       "    }\n",
       "\n",
       "    .dataframe tbody tr th {\n",
       "        vertical-align: top;\n",
       "    }\n",
       "\n",
       "    .dataframe thead th {\n",
       "        text-align: right;\n",
       "    }\n",
       "</style>\n",
       "<table border=\"1\" class=\"dataframe\">\n",
       "  <thead>\n",
       "    <tr style=\"text-align: right;\">\n",
       "      <th></th>\n",
       "      <th>shauriya</th>\n",
       "      <th>Ashish</th>\n",
       "    </tr>\n",
       "  </thead>\n",
       "  <tbody>\n",
       "    <tr>\n",
       "      <th>0</th>\n",
       "      <td>250</td>\n",
       "      <td>120.0</td>\n",
       "    </tr>\n",
       "    <tr>\n",
       "      <th>1</th>\n",
       "      <td>15</td>\n",
       "      <td>50.0</td>\n",
       "    </tr>\n",
       "    <tr>\n",
       "      <th>2</th>\n",
       "      <td>70</td>\n",
       "      <td>90.0</td>\n",
       "    </tr>\n",
       "    <tr>\n",
       "      <th>3</th>\n",
       "      <td>100</td>\n",
       "      <td>NaN</td>\n",
       "    </tr>\n",
       "  </tbody>\n",
       "</table>\n",
       "</div>"
      ],
      "text/plain": [
       "   shauriya  Ashish\n",
       "0       250   120.0\n",
       "1        15    50.0\n",
       "2        70    90.0\n",
       "3       100     NaN"
      ]
     },
     "execution_count": 45,
     "metadata": {},
     "output_type": "execute_result"
    }
   ],
   "source": [
    "df"
   ]
  },
  {
   "cell_type": "code",
   "execution_count": 46,
   "id": "8deab8e6",
   "metadata": {},
   "outputs": [
    {
     "name": "stdout",
     "output_type": "stream",
     "text": [
      "<class 'pandas.core.frame.DataFrame'>\n",
      "RangeIndex: 4 entries, 0 to 3\n",
      "Data columns (total 2 columns):\n",
      " #   Column    Non-Null Count  Dtype  \n",
      "---  ------    --------------  -----  \n",
      " 0   shauriya  4 non-null      int64  \n",
      " 1   Ashish    3 non-null      float64\n",
      "dtypes: float64(1), int64(1)\n",
      "memory usage: 192.0 bytes\n"
     ]
    }
   ],
   "source": [
    "df.info()"
   ]
  },
  {
   "cell_type": "code",
   "execution_count": 47,
   "id": "b3d4c000",
   "metadata": {},
   "outputs": [
    {
     "data": {
      "text/html": [
       "<div>\n",
       "<style scoped>\n",
       "    .dataframe tbody tr th:only-of-type {\n",
       "        vertical-align: middle;\n",
       "    }\n",
       "\n",
       "    .dataframe tbody tr th {\n",
       "        vertical-align: top;\n",
       "    }\n",
       "\n",
       "    .dataframe thead th {\n",
       "        text-align: right;\n",
       "    }\n",
       "</style>\n",
       "<table border=\"1\" class=\"dataframe\">\n",
       "  <thead>\n",
       "    <tr style=\"text-align: right;\">\n",
       "      <th></th>\n",
       "      <th>Shaurya</th>\n",
       "      <th>Ashish</th>\n",
       "    </tr>\n",
       "  </thead>\n",
       "  <tbody>\n",
       "    <tr>\n",
       "      <th>book</th>\n",
       "      <td>NaN</td>\n",
       "      <td>15.0</td>\n",
       "    </tr>\n",
       "    <tr>\n",
       "      <th>glasses</th>\n",
       "      <td>70.0</td>\n",
       "      <td>NaN</td>\n",
       "    </tr>\n",
       "    <tr>\n",
       "      <th>pant</th>\n",
       "      <td>NaN</td>\n",
       "      <td>100.0</td>\n",
       "    </tr>\n",
       "    <tr>\n",
       "      <th>shirt</th>\n",
       "      <td>100.0</td>\n",
       "      <td>NaN</td>\n",
       "    </tr>\n",
       "    <tr>\n",
       "      <th>toy</th>\n",
       "      <td>15.0</td>\n",
       "      <td>20.0</td>\n",
       "    </tr>\n",
       "    <tr>\n",
       "      <th>watch</th>\n",
       "      <td>250.0</td>\n",
       "      <td>NaN</td>\n",
       "    </tr>\n",
       "  </tbody>\n",
       "</table>\n",
       "</div>"
      ],
      "text/plain": [
       "         Shaurya  Ashish\n",
       "book         NaN    15.0\n",
       "glasses     70.0     NaN\n",
       "pant         NaN   100.0\n",
       "shirt      100.0     NaN\n",
       "toy         15.0    20.0\n",
       "watch      250.0     NaN"
      ]
     },
     "execution_count": 47,
     "metadata": {},
     "output_type": "execute_result"
    }
   ],
   "source": [
    "cart"
   ]
  },
  {
   "cell_type": "code",
   "execution_count": 48,
   "id": "cdcbf8bd",
   "metadata": {},
   "outputs": [
    {
     "data": {
      "text/plain": [
       "Index(['book', 'glasses', 'pant', 'shirt', 'toy', 'watch'], dtype='object')"
      ]
     },
     "execution_count": 48,
     "metadata": {},
     "output_type": "execute_result"
    }
   ],
   "source": [
    "cart.index"
   ]
  },
  {
   "cell_type": "code",
   "execution_count": 49,
   "id": "9c06ba47",
   "metadata": {},
   "outputs": [
    {
     "data": {
      "text/plain": [
       "Index(['Shaurya', 'Ashish'], dtype='object')"
      ]
     },
     "execution_count": 49,
     "metadata": {},
     "output_type": "execute_result"
    }
   ],
   "source": [
    "cart.columns"
   ]
  },
  {
   "cell_type": "code",
   "execution_count": 50,
   "id": "ec5acb33",
   "metadata": {},
   "outputs": [
    {
     "data": {
      "text/plain": [
       "array([[ nan,  15.],\n",
       "       [ 70.,  nan],\n",
       "       [ nan, 100.],\n",
       "       [100.,  nan],\n",
       "       [ 15.,  20.],\n",
       "       [250.,  nan]])"
      ]
     },
     "execution_count": 50,
     "metadata": {},
     "output_type": "execute_result"
    }
   ],
   "source": [
    "cart.values"
   ]
  },
  {
   "cell_type": "code",
   "execution_count": 51,
   "id": "77c6dd3c",
   "metadata": {},
   "outputs": [
    {
     "data": {
      "text/plain": [
       "(6, 2)"
      ]
     },
     "execution_count": 51,
     "metadata": {},
     "output_type": "execute_result"
    }
   ],
   "source": [
    "cart.shape"
   ]
  },
  {
   "cell_type": "code",
   "execution_count": 52,
   "id": "65ec4afb",
   "metadata": {},
   "outputs": [
    {
     "data": {
      "text/plain": [
       "12"
      ]
     },
     "execution_count": 52,
     "metadata": {},
     "output_type": "execute_result"
    }
   ],
   "source": [
    "cart.size"
   ]
  },
  {
   "cell_type": "code",
   "execution_count": 53,
   "id": "10763002",
   "metadata": {},
   "outputs": [
    {
     "data": {
      "text/plain": [
       "2"
      ]
     },
     "execution_count": 53,
     "metadata": {},
     "output_type": "execute_result"
    }
   ],
   "source": [
    "cart.ndim"
   ]
  },
  {
   "cell_type": "code",
   "execution_count": 61,
   "id": "1e2d91fd",
   "metadata": {},
   "outputs": [
    {
     "name": "stdout",
     "output_type": "stream",
     "text": [
      "        Physics  Maths\n",
      "philip       50    100\n",
      "mathus       65     74\n",
      "cilien       70     85\n",
      "edin         85     88\n"
     ]
    }
   ],
   "source": [
    "i = {'Physics': pd.Series([50,65,70,85], index=['philip','mathus','cilien','edin']),\n",
    "      'Maths': pd.Series([100,74,85,88], index = ['philip','mathus','cilien','edin'])}\n",
    "df = pd.DataFrame(i)\n",
    "print(df)"
   ]
  },
  {
   "cell_type": "code",
   "execution_count": 62,
   "id": "2b8c7f82",
   "metadata": {},
   "outputs": [
    {
     "data": {
      "text/plain": [
       "[(0, 1), (1, 2), (2, 'yes'), (3, 'no')]"
      ]
     },
     "execution_count": 62,
     "metadata": {},
     "output_type": "execute_result"
    }
   ],
   "source": [
    "a = pd.Series([1,2,'yes','no'])\n",
    "list(a.items())"
   ]
  },
  {
   "cell_type": "code",
   "execution_count": 63,
   "id": "bb5bc00f",
   "metadata": {},
   "outputs": [
    {
     "data": {
      "text/plain": [
       "Physics     50\n",
       "Maths      100\n",
       "Name: philip, dtype: int64"
      ]
     },
     "execution_count": 63,
     "metadata": {},
     "output_type": "execute_result"
    }
   ],
   "source": [
    "df.loc['philip']"
   ]
  }
 ],
 "metadata": {
  "kernelspec": {
   "display_name": "Python 3 (ipykernel)",
   "language": "python",
   "name": "python3"
  },
  "language_info": {
   "codemirror_mode": {
    "name": "ipython",
    "version": 3
   },
   "file_extension": ".py",
   "mimetype": "text/x-python",
   "name": "python",
   "nbconvert_exporter": "python",
   "pygments_lexer": "ipython3",
   "version": "3.10.9"
  }
 },
 "nbformat": 4,
 "nbformat_minor": 5
}
