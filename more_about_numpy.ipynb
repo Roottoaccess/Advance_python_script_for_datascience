{
 "cells": [
  {
   "cell_type": "code",
   "execution_count": 1,
   "id": "9955a29a",
   "metadata": {},
   "outputs": [],
   "source": [
    "# Boolean Indexing Started:\n",
    "# Numpy part 3"
   ]
  },
  {
   "cell_type": "code",
   "execution_count": 2,
   "id": "6d4a0c6c",
   "metadata": {},
   "outputs": [
    {
     "data": {
      "text/plain": [
       "array([11, 12, 13, 14, 15, 16, 17, 18, 19, 20, 21, 22, 23, 24])"
      ]
     },
     "execution_count": 2,
     "metadata": {},
     "output_type": "execute_result"
    }
   ],
   "source": [
    "import numpy as np\n",
    "x = np.arange(25).reshape(5,5)\n",
    "x[x>10]"
   ]
  },
  {
   "cell_type": "code",
   "execution_count": 7,
   "id": "1170f17a",
   "metadata": {},
   "outputs": [
    {
     "name": "stdout",
     "output_type": "stream",
     "text": [
      "[[ 0  1  2  3  4]\n",
      " [ 5  6  7  8  9]\n",
      " [10 11 12 13 14]\n",
      " [15 16 17 18 19]\n",
      " [20 21 22 23 24]]\n",
      "[[ True  True  True  True  True]\n",
      " [ True  True  True  True  True]\n",
      " [False False False False False]\n",
      " [False False False False False]\n",
      " [False False False False False]]\n",
      "[0 1 2 3 4 5 6 7 8 9]\n"
     ]
    }
   ],
   "source": [
    "import numpy as np\n",
    "x = np.arange(25).reshape(5,5)\n",
    "x[x<10]\n",
    "print(x)\n",
    "print(x<10)\n",
    "print(x[x<10])"
   ]
  },
  {
   "cell_type": "code",
   "execution_count": 14,
   "id": "ebde911e",
   "metadata": {},
   "outputs": [
    {
     "name": "stdout",
     "output_type": "stream",
     "text": [
      "[[ 0  1  2  3  4]\n",
      " [ 5  6  7  8  9]\n",
      " [10 11 12 13 14]\n",
      " [15 16 17 18 19]\n",
      " [20 21 22 23 24]]\n",
      "[0 1 2 3 4 5 6 7]\n",
      "[False False False False False False]\n"
     ]
    }
   ],
   "source": [
    "x = np.arange(25).reshape(5,5)\n",
    "print(x)\n",
    "print(x[x<=7])\n",
    "print(x[(x > 10) & (x < 17)] == -1)"
   ]
  },
  {
   "cell_type": "code",
   "execution_count": 15,
   "id": "2c48afa3",
   "metadata": {},
   "outputs": [
    {
     "data": {
      "text/plain": [
       "array([11, 12, 13, 14, 15, 16, 17, 18, 19, 20, 21, 22, 23, 24])"
      ]
     },
     "execution_count": 15,
     "metadata": {},
     "output_type": "execute_result"
    }
   ],
   "source": [
    "x[x>10]"
   ]
  },
  {
   "cell_type": "code",
   "execution_count": 16,
   "id": "bf87f115",
   "metadata": {},
   "outputs": [
    {
     "name": "stdout",
     "output_type": "stream",
     "text": [
      "x = /n [1 2 3 4 5]\n",
      "[]\n"
     ]
    }
   ],
   "source": [
    "# Set operator:\n",
    "x = np.array([1,2,3,4,5])\n",
    "y = np.array([6,7,8,9,10])\n",
    "\n",
    "print('x = /n',x)\n",
    "print(np.intersect1d(x,y))"
   ]
  },
  {
   "cell_type": "code",
   "execution_count": 19,
   "id": "557243f7",
   "metadata": {
    "scrolled": true
   },
   "outputs": [
    {
     "name": "stdout",
     "output_type": "stream",
     "text": [
      "[ 0  1  2  5  7 18]\n"
     ]
    }
   ],
   "source": [
    "# sort\n",
    "x = np.array([7,1,5,0,2,18])\n",
    "print(np.sort(x))"
   ]
  },
  {
   "cell_type": "code",
   "execution_count": 21,
   "id": "bc22d7ed",
   "metadata": {},
   "outputs": [
    {
     "name": "stdout",
     "output_type": "stream",
     "text": [
      "x = \n",
      " [ 1  2  7  7  8 10  7  4  2  8]\n",
      "[ 1  2  2  4  7  7  7  8  8 10]\n"
     ]
    }
   ],
   "source": [
    "x = np.random.randint(1,11,size=(10,))\n",
    "print('x = \\n',x)\n",
    "print(np.sort(x))"
   ]
  },
  {
   "cell_type": "code",
   "execution_count": 23,
   "id": "d603ca65",
   "metadata": {},
   "outputs": [
    {
     "data": {
      "text/plain": [
       "array([ 1,  2,  4,  7,  8, 10])"
      ]
     },
     "execution_count": 23,
     "metadata": {},
     "output_type": "execute_result"
    }
   ],
   "source": [
    "np.sort(np.unique(x)) # Unique values will be return and sorted"
   ]
  },
  {
   "cell_type": "code",
   "execution_count": 25,
   "id": "286436e2",
   "metadata": {},
   "outputs": [
    {
     "name": "stdout",
     "output_type": "stream",
     "text": [
      "x = \n",
      " [[ 8  8  2  9  4]\n",
      " [ 5  3  8  6  4]\n",
      " [ 3  6  4  4 10]\n",
      " [ 6  7  8  7  8]\n",
      " [10  9  4  2  4]]\n",
      "[[ 3  3  2  2  4]\n",
      " [ 5  6  4  4  4]\n",
      " [ 6  7  4  6  4]\n",
      " [ 8  8  8  7  8]\n",
      " [10  9  8  9 10]]\n",
      "[[ 2  4  8  8  9]\n",
      " [ 3  4  5  6  8]\n",
      " [ 3  4  4  6 10]\n",
      " [ 6  7  7  8  8]\n",
      " [ 2  4  4  9 10]]\n"
     ]
    }
   ],
   "source": [
    "x = np.random.randint(1,11,size=(5,5))\n",
    "\n",
    "print('x = \\n',x)\n",
    "print(np.sort(x , axis = 0)) # Rows are sorted of the matrix\n",
    "\n",
    "print(np.sort(x , axis = 1)) # col are sorted of the matrix"
   ]
  },
  {
   "cell_type": "code",
   "execution_count": 26,
   "id": "9941373d",
   "metadata": {},
   "outputs": [
    {
     "name": "stdout",
     "output_type": "stream",
     "text": [
      "[ 1  3  5  7  9 11 13 15 17 19 21 23]\n"
     ]
    }
   ],
   "source": [
    "# Questions\n",
    "import numpy as np\n",
    "x = np.arange(25).reshape(5,5)\n",
    "print(x[x % 2 != 0])"
   ]
  },
  {
   "cell_type": "code",
   "execution_count": null,
   "id": "6d0a5fb8",
   "metadata": {},
   "outputs": [],
   "source": []
  }
 ],
 "metadata": {
  "kernelspec": {
   "display_name": "Python 3 (ipykernel)",
   "language": "python",
   "name": "python3"
  },
  "language_info": {
   "codemirror_mode": {
    "name": "ipython",
    "version": 3
   },
   "file_extension": ".py",
   "mimetype": "text/x-python",
   "name": "python",
   "nbconvert_exporter": "python",
   "pygments_lexer": "ipython3",
   "version": "3.10.9"
  }
 },
 "nbformat": 4,
 "nbformat_minor": 5
}
